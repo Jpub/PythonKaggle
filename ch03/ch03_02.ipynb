{
 "cells": [
  {
   "cell_type": "markdown",
   "metadata": {},
   "source": [
    "This notebook is a sample code with Korean comments.\n",
    "\n",
    "Ref: [TRAINING A CLASSIFIER](https://pytorch.org/tutorials/beginner/blitz/cifar10_tutorial.html)\n",
    "\n",
    "#  3.2 이미지 데이터 다루기"
   ]
  },
  {
   "cell_type": "code",
   "execution_count": 1,
   "metadata": {
    "_cell_guid": "b1076dfc-b9ad-4769-8c92-a6c4dae69d19",
    "_uuid": "8f2839f25d086af736a60e9eeb907d3b93b6e0e5"
   },
   "outputs": [],
   "source": [
    "import torch\n",
    "import torchvision\n",
    "import torchvision.transforms as transforms"
   ]
  },
  {
   "cell_type": "code",
   "execution_count": 2,
   "metadata": {
    "_cell_guid": "79c7e3d0-c299-4dcb-8224-4455121ee9b0",
    "_uuid": "d629ff2d2480ee46fbb7e2d37f6b5fab8052498a"
   },
   "outputs": [
    {
     "name": "stderr",
     "output_type": "stream",
     "text": [
      "\r",
      "0it [00:00, ?it/s]"
     ]
    },
    {
     "name": "stdout",
     "output_type": "stream",
     "text": [
      "Downloading https://www.cs.toronto.edu/~kriz/cifar-10-python.tar.gz to ./data/cifar-10-python.tar.gz\n"
     ]
    },
    {
     "name": "stderr",
     "output_type": "stream",
     "text": [
      "170500096it [01:30, 4515126.28it/s]                               "
     ]
    },
    {
     "name": "stdout",
     "output_type": "stream",
     "text": [
      "Files already downloaded and verified\n"
     ]
    }
   ],
   "source": [
    "transform = transforms.Compose(\n",
    "    [transforms.ToTensor(),\n",
    "     transforms.Normalize((0.5, 0.5, 0.5), (0.5, 0.5, 0.5))])\n",
    "\n",
    "trainset = torchvision.datasets.CIFAR10(root='./data', train=True,\n",
    "                                        download=True, transform=transform)\n",
    "trainloader = torch.utils.data.DataLoader(trainset, batch_size=4,\n",
    "                                          shuffle=True, num_workers=2)\n",
    "\n",
    "testset = torchvision.datasets.CIFAR10(root='./data', train=False,\n",
    "                                       download=True, transform=transform)\n",
    "testloader = torch.utils.data.DataLoader(testset, batch_size=4,\n",
    "                                         shuffle=False, num_workers=2)\n",
    "\n",
    "classes = ('plane', 'car', 'bird', 'cat',\n",
    "           'deer', 'dog', 'frog', 'horse', 'ship', 'truck')"
   ]
  },
  {
   "cell_type": "code",
   "execution_count": 3,
   "metadata": {},
   "outputs": [
    {
     "data": {
      "image/png": "[encoded data removed]",
      "text/plain": [
       "<Figure size 432x288 with 1 Axes>"
      ]
     },
     "metadata": {
      "needs_background": "light"
     },
     "output_type": "display_data"
    },
    {
     "name": "stdout",
     "output_type": "stream",
     "text": [
      "plane   cat  deer  deer\n"
     ]
    }
   ],
   "source": [
    "import matplotlib.pyplot as plt\n",
    "import numpy as np\n",
    "\n",
    "\n",
    "def imshow(img):\n",
    "    img = img / 2 + 0.5\n",
    "    npimg = img.numpy()\n",
    "    plt.imshow(np.transpose(npimg, (1, 2, 0)))\n",
    "    plt.show()\n",
    "\n",
    "\n",
    "dataiter = iter(trainloader)\n",
    "images, labels = dataiter.next()\n",
    "imshow(torchvision.utils.make_grid(images))\n",
    "print(' '.join('%5s' % classes[labels[j]] for j in range(4)))"
   ]
  },
  {
   "cell_type": "code",
   "execution_count": 4,
   "metadata": {},
   "outputs": [
    {
     "data": {
      "text/plain": [
       "torch.Size([4, 3, 32, 32])"
      ]
     },
     "execution_count": 4,
     "metadata": {},
     "output_type": "execute_result"
    }
   ],
   "source": [
    "images.shape"
   ]
  },
  {
   "cell_type": "code",
   "execution_count": 5,
   "metadata": {},
   "outputs": [
    {
     "data": {
      "text/plain": [
       "tensor([[[-0.9451, -0.9529, -0.9529,  ..., -0.9765, -0.9765, -0.9765],\n",
       "         [-0.9686, -0.9686, -0.9765,  ..., -0.9922, -0.9922, -0.9922],\n",
       "         [-0.9765, -0.9765, -0.9843,  ..., -0.9922, -0.9922, -0.9922],\n",
       "         ...,\n",
       "         [ 0.6863,  0.6863,  0.7020,  ...,  0.8196,  0.8118,  0.7961],\n",
       "         [ 0.6863,  0.6941,  0.7098,  ...,  0.8196,  0.8039,  0.7961],\n",
       "         [ 0.6941,  0.7020,  0.7176,  ...,  0.8118,  0.8039,  0.7961]],\n",
       "\n",
       "        [[-0.3490, -0.3490, -0.3412,  ..., -0.2941, -0.2941, -0.2941],\n",
       "         [-0.3333, -0.3255, -0.3255,  ..., -0.2784, -0.2784, -0.2784],\n",
       "         [-0.3020, -0.3020, -0.3020,  ..., -0.2549, -0.2549, -0.2549],\n",
       "         ...,\n",
       "         [ 0.6392,  0.6392,  0.6549,  ...,  0.8039,  0.7882,  0.7804],\n",
       "         [ 0.6392,  0.6471,  0.6627,  ...,  0.8118,  0.7961,  0.7804],\n",
       "         [ 0.6471,  0.6549,  0.6706,  ...,  0.8118,  0.7961,  0.7804]],\n",
       "\n",
       "        [[ 0.0745,  0.0824,  0.0980,  ...,  0.1765,  0.1765,  0.1608],\n",
       "         [ 0.0745,  0.0902,  0.1059,  ...,  0.1843,  0.1765,  0.1765],\n",
       "         [ 0.1216,  0.1216,  0.1294,  ...,  0.2078,  0.2078,  0.2078],\n",
       "         ...,\n",
       "         [ 0.6392,  0.6392,  0.6549,  ...,  0.8118,  0.7961,  0.7882],\n",
       "         [ 0.6392,  0.6471,  0.6627,  ...,  0.8118,  0.7961,  0.7882],\n",
       "         [ 0.6471,  0.6549,  0.6706,  ...,  0.8118,  0.7961,  0.7882]]])"
      ]
     },
     "execution_count": 5,
     "metadata": {},
     "output_type": "execute_result"
    },
    {
     "name": "stderr",
     "output_type": "stream",
     "text": [
      "\r",
      "170500096it [01:50, 4515126.28it/s]"
     ]
    }
   ],
   "source": [
    "images[0]"
   ]
  },
  {
   "cell_type": "code",
   "execution_count": null,
   "metadata": {},
   "outputs": [],
   "source": []
  }
 ],
 "metadata": {
  "kernelspec": {
   "display_name": "Python 3",
   "language": "python",
   "name": "python3"
  },
  "language_info": {
   "codemirror_mode": {
    "name": "ipython",
    "version": 3
   },
   "file_extension": ".py",
   "mimetype": "text/x-python",
   "name": "python",
   "nbconvert_exporter": "python",
   "pygments_lexer": "ipython3",
   "version": "3.6.6"
  }
 },
 "nbformat": 4,
 "nbformat_minor": 1
}